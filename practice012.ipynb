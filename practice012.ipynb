{
 "cells": [
  {
   "attachments": {},
   "cell_type": "markdown",
   "metadata": {},
   "source": [
    "#### Task 1:  \n",
    "\n",
    "Продакт на главной mail.ru решил протестировать в рекомендательной ленте контента вместо карточек со статьями видеоплеер с короткими видео. Нынешний таймспент на юзера в день в среднем равен 25 минут, а стандартная ошибка (SD) равна 156. Мы предполагаем, что в новой версии таймспент на юзера в день изменится на 10%. Средний трафик 20000 человек в день. Посчитайте сколько дней необходимо держать эксперимент при alpha = 5% и beta = 20% .\n",
    "\n",
    "#### Task 2:\n",
    "Наша продуктовая команда в ecommerce магазине планирует запустить тест, направленный на ускорение загрузки сайта. Одна из основных метрик bounce rate в GA = 40%. Мы предполагаем, что при оптимизации сайта она изменится минимум на 20%.Средний трафик 4000 человек в день. Посчитайте сколько нам нужно дней держать эксперимент при alpha = 5% и beta = 20%"
   ]
  },
  {
   "cell_type": "code",
   "execution_count": 95,
   "metadata": {},
   "outputs": [],
   "source": [
    "# packages imports\n",
    "import statsmodels.stats.api as sms\n",
    "from statsmodels.stats.power import TTestIndPower"
   ]
  },
  {
   "cell_type": "code",
   "execution_count": 43,
   "metadata": {},
   "outputs": [],
   "source": [
    "# statistical constants\n",
    "alpha = 0.05 # 1st type error (false positive)\n",
    "beta = 0.2 # 2nd type error (false negative)\n",
    "power = 1 - beta # power of a statistical test"
   ]
  },
  {
   "attachments": {},
   "cell_type": "markdown",
   "metadata": {},
   "source": [
    "## Task 1 "
   ]
  },
  {
   "cell_type": "code",
   "execution_count": 44,
   "metadata": {},
   "outputs": [],
   "source": [
    "# conditions of the task 1\n",
    "std1 = 156 # standard deviation\n",
    "n_users1 = 20000 # number of users per day\n",
    "time_contr = 25 # time spent by one user per day in control group\n",
    "time_treat = time_contr * 1.1 # time spent by one user per day in treatment group"
   ]
  },
  {
   "cell_type": "code",
   "execution_count": 45,
   "metadata": {},
   "outputs": [],
   "source": [
    "# difference (relationship) between groups; \n",
    "# practical significance of a research outcome\n",
    "effect1 = (time_treat - time_contr) / std1"
   ]
  },
  {
   "cell_type": "code",
   "execution_count": 46,
   "metadata": {},
   "outputs": [
    {
     "name": "stdout",
     "output_type": "stream",
     "text": [
      "A/B test sample size: 61124\n"
     ]
    }
   ],
   "source": [
    "# calculate the A/B test sample size\n",
    "analysis1 = TTestIndPower()\n",
    "sample_size1 = analysis1.solve_power(\n",
    "    effect_size=effect1,\n",
    "    nobs1=None,\n",
    "    power=power, \n",
    "    alpha=alpha, \n",
    "    alternative='two-sided', \n",
    "    ratio=1.0\n",
    ")\n",
    "print(f'A/B test sample size: {round(sample_size1)}')"
   ]
  },
  {
   "cell_type": "code",
   "execution_count": 47,
   "metadata": {},
   "outputs": [
    {
     "name": "stdout",
     "output_type": "stream",
     "text": [
      "A/B test duration: 3 days\n"
     ]
    }
   ],
   "source": [
    "# calculate duration of A/B test \n",
    "test_duration1 = sample_size1 / n_users1\n",
    "print(f'A/B test duration: {round(test_duration1)} days')"
   ]
  },
  {
   "attachments": {},
   "cell_type": "markdown",
   "metadata": {},
   "source": [
    "## Task 2"
   ]
  },
  {
   "cell_type": "code",
   "execution_count": 104,
   "metadata": {},
   "outputs": [],
   "source": [
    "# conditions of the task 2\n",
    "n_users2 = 4000 # number of users per day\n",
    "b_rate_contr = 0.4 # bounce rate per day in control group\n",
    "b_rate_treat = b_rate_contr * 1.2 # bounce rate per day in treatment group"
   ]
  },
  {
   "cell_type": "code",
   "execution_count": 143,
   "metadata": {},
   "outputs": [
    {
     "data": {
      "text/plain": [
       "0.2"
      ]
     },
     "execution_count": 143,
     "metadata": {},
     "output_type": "execute_result"
    }
   ],
   "source": [
    "# calculate effect size (statsmodels)\n",
    "effect2_1 = abs(sms.proportion_effectsize(b_rate_contr, b_rate_treat))\n",
    "round(effect2_1, 1)"
   ]
  },
  {
   "cell_type": "code",
   "execution_count": 144,
   "metadata": {},
   "outputs": [
    {
     "data": {
      "text/plain": [
       "0.2"
      ]
     },
     "execution_count": 144,
     "metadata": {},
     "output_type": "execute_result"
    }
   ],
   "source": [
    "# calculate effect size (from lecture)\n",
    "effect2_2 = (b_rate_treat / b_rate_contr - 1)\n",
    "round(effect2_2, 1)"
   ]
  },
  {
   "cell_type": "code",
   "execution_count": 145,
   "metadata": {},
   "outputs": [
    {
     "name": "stdout",
     "output_type": "stream",
     "text": [
      "A/B test sample size: 603\n"
     ]
    }
   ],
   "source": [
    "# calculate the A/B test sample size;\n",
    "# statistical power for z-test for two independent samples\n",
    "sample_size2 = sms.NormalIndPower().solve_power(\n",
    "    effect2_1, \n",
    "    power=power, \n",
    "    alpha=alpha, \n",
    "    ratio=1.0\n",
    ") \n",
    "print(f'A/B test sample size: {round(sample_size2)}')       "
   ]
  },
  {
   "cell_type": "code",
   "execution_count": 146,
   "metadata": {},
   "outputs": [
    {
     "name": "stdout",
     "output_type": "stream",
     "text": [
      "A/B test duration: 4 hours\n"
     ]
    }
   ],
   "source": [
    "# calculate duration of A/B test \n",
    "test_duration2 = sample_size2 / n_users2 * 24\n",
    "print(f'A/B test duration: {round(test_duration2)} hours')"
   ]
  }
 ],
 "metadata": {
  "kernelspec": {
   "display_name": "base",
   "language": "python",
   "name": "python3"
  },
  "language_info": {
   "codemirror_mode": {
    "name": "ipython",
    "version": 3
   },
   "file_extension": ".py",
   "mimetype": "text/x-python",
   "name": "python",
   "nbconvert_exporter": "python",
   "pygments_lexer": "ipython3",
   "version": "3.9.7"
  },
  "orig_nbformat": 4
 },
 "nbformat": 4,
 "nbformat_minor": 2
}
