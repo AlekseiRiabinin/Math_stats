{
 "cells": [
  {
   "cell_type": "code",
   "execution_count": 1,
   "metadata": {},
   "outputs": [],
   "source": [
    "import math\n",
    "import numpy as np\n",
    "from scipy.stats import gmean\n",
    "from sklearn.linear_model import LinearRegression"
   ]
  },
  {
   "cell_type": "markdown",
   "metadata": {},
   "source": [
    "Задача 1. Аналитик собрал статистику за 36 прошедших месяцев, согласно которой вложение в акцию компании АВС позволило за месяц заработать 15% в 1 случае из 36 проанализированных месяцев, 10% - в 2 случаях, 5% - в 3 случаях, 0% в 23 случаях, потерять 5% в 6 случаях, и потерять 10% в оставшихся случаях. Определить ожидаемое значение доходности инвестиции."
   ]
  },
  {
   "cell_type": "code",
   "execution_count": 11,
   "metadata": {},
   "outputs": [],
   "source": [
    "# task 1\n",
    "def task01():\n",
    "    revenue1, prob1 = 0.15, 1/36\n",
    "    revenue2, prob2 = 0.1, 2/36\n",
    "    revenue3, prob3 = 0, 23/36\n",
    "    revenue4, prob4 = -0.05, 6/36\n",
    "    revenue5, prob5 = -0.1, 1 - (prob1 + prob2 + prob3 + prob4)\n",
    "\n",
    "    total_revenue = (\n",
    "          revenue1 * prob1 \n",
    "        + revenue2 * prob2 \n",
    "        + revenue3 * prob3\n",
    "        + revenue4 * prob4\n",
    "        + revenue5 * prob5\n",
    "    )\n",
    "\n",
    "    print(f'Expected revenue: {round(total_revenue * 100, 2)}%')"
   ]
  },
  {
   "cell_type": "code",
   "execution_count": 12,
   "metadata": {},
   "outputs": [
    {
     "name": "stdout",
     "output_type": "stream",
     "text": [
      "Expected revenue: -0.97%\n"
     ]
    }
   ],
   "source": [
    "task01()"
   ]
  },
  {
   "cell_type": "markdown",
   "metadata": {},
   "source": [
    "Задача 2. Инвестиционный фонд за 7 предыдущих лет заработал следующие годовые доходности: +5%; -2%; +12%; +7%; -4%; +11%; +9%. Если предположить, что в среднем фонд будет зарабатывать такую же доходность, как и по итогам прошедших 7 лет (в смысле геометрической доходности), и вложить $100 тыс. в этот фонд, то какой ожидаемый результат будет через 5 лет?"
   ]
  },
  {
   "cell_type": "code",
   "execution_count": 4,
   "metadata": {},
   "outputs": [],
   "source": [
    "# task 2\n",
    "def task02():\n",
    "    PV = 100_000 # present value\n",
    "    n = 5 # number of future periods\n",
    "    revenue_init = [0.05, -0.02, 0.12, 0.07, -0.04, 0.11, 0.09]\n",
    "    revenue_modif = [x + 1 for x in revenue_init]\n",
    "    geo_mean = gmean(revenue_modif)\n",
    "    FV = PV * (1 + (geo_mean - 1)) ** n\n",
    "\n",
    "    print(f'Geometrical mean: {round(geo_mean * 100, 2)}%')\n",
    "    print(f'Expected revenue: {round(FV, 2)}$')"
   ]
  },
  {
   "cell_type": "code",
   "execution_count": 5,
   "metadata": {},
   "outputs": [
    {
     "name": "stdout",
     "output_type": "stream",
     "text": [
      "Geometrical mean: 105.27%\n",
      "Expected revenue: 129257.46$\n"
     ]
    }
   ],
   "source": [
    "task02()"
   ]
  },
  {
   "cell_type": "markdown",
   "metadata": {},
   "source": [
    "Задача 3. В инвестиционном анализе есть т.н. показатель Шарпа, который характеризует эффективность инвестиции в фонд. Он рассчитывается как отношение средней доходности к риску (волатильности). Рассчитайте этот коэффициент для условий задачи 2."
   ]
  },
  {
   "cell_type": "code",
   "execution_count": 6,
   "metadata": {},
   "outputs": [],
   "source": [
    "# task 3\n",
    "def task03():\n",
    "    rev_init = [0.05, -0.02, 0.12, 0.07, -0.04, 0.11, 0.09]\n",
    "    rev_posit = [x for x in rev_init if x > 0] # positive revenue\n",
    "    rev_modif = [x + 1 for x in rev_posit] # add 1 to revenue\n",
    "    geo_mean = gmean(rev_modif) # geometric mean\n",
    "\n",
    "    # reletive return\n",
    "    rel_return = list(map(lambda x, y: y / x, rev_modif[:-1], rev_modif[1:])) \n",
    "    \n",
    "    # natural log of returns\n",
    "    log_return = [math.log(x) for x in rel_return]\n",
    "\n",
    "    sharpe_ratio = geo_mean / np.std(log_return) # sharpe ratio\n",
    "    print(f'Sharpe ratio: {round(sharpe_ratio, 2)}')"
   ]
  },
  {
   "cell_type": "code",
   "execution_count": 7,
   "metadata": {},
   "outputs": [
    {
     "name": "stdout",
     "output_type": "stream",
     "text": [
      "Sharpe ratio: 24.99\n"
     ]
    }
   ],
   "source": [
    "task03()"
   ]
  },
  {
   "cell_type": "markdown",
   "metadata": {},
   "source": [
    "Задача 4. Компания по страхованию автомобилей разделяет водителей по трем категориям в зависимости от опыта: категория 1 (стаж вождения более 10 лет), категория 2 (стаж более 2 лет, но меньше 10), категория 3 (стаж менее 2 лет). Для данной компании среди 100% застрахованных 30% принадлежат категории 1, 50% – категории 2, 20% – категории 3. Вероятность того, что в течение года водитель категории 1 попадет хотя бы в одно ДТП равна 1%; для водителя категории 2 - 3%, а для водителя категории 3 – 10%. Клиент компании застраховал автомобиль и попал в ДТП. Какова вероятность того, что он относится к категории 1?"
   ]
  },
  {
   "cell_type": "code",
   "execution_count": 8,
   "metadata": {},
   "outputs": [],
   "source": [
    "# task 4\n",
    "def task04():\n",
    "    p_A = 0.3 # probobility of being 1st category\n",
    "    p_B = 0.3 * 0.01 + 0.5 * 0.03 + 0.2 * 0.1 # event of car crash\n",
    "    p_BA = 0.01\n",
    "    p_AB = p_BA * (p_A / p_B) * 100\n",
    "    print(f'Probobility of being 1st category given car crash: {round(p_AB, 2)}%')"
   ]
  },
  {
   "cell_type": "code",
   "execution_count": 9,
   "metadata": {},
   "outputs": [
    {
     "name": "stdout",
     "output_type": "stream",
     "text": [
      "Probobility of being 1st category given car crash: 7.89%\n"
     ]
    }
   ],
   "source": [
    "task04()"
   ]
  },
  {
   "cell_type": "markdown",
   "metadata": {},
   "source": [
    "Задача 5. Аналитик собрал статистические данные между ценой акции перерабатывающей компании и ценой ресурса, который эта компания перерабатывает:\n",
    "Месяц 1 2 3 4 5 6 7 8 9 10 11 12\n",
    "Цена акции, 12,1 15,2 15,3 15,7 15,2 16,1 16,5 17,1 17,2 17,0 16,8 16,9\n",
    "Цена ресурса, 115,0 119,0 121,0 130,0 131,0 150,0 155,0 172,0 174,0 168,0 161,0 159,0\n",
    "И предположил, что цена акции зависит от цены ресурса с задержкой на 1 месяц. Определить уравнение регрессии для этого предположения и сделать на его основе прогноз цены акции на 13 месяц."
   ]
  },
  {
   "cell_type": "code",
   "execution_count": 16,
   "metadata": {},
   "outputs": [],
   "source": [
    "# task 5\n",
    "def task05():\n",
    "    stock = [15.2, 15.3, 15.7, 15.2, 16.1, 16.5, 17.1, 17.2, 17.0, 16.8, 16.9] # stock\n",
    "    source = [115, 119, 121, 130, 131, 150, 155, 172, 174, 168, 161] # source\n",
    "    source_13 = [159]\n",
    "\n",
    "    y_train = np.array(stock).reshape(-1, 1)\n",
    "    X_train = np.array(source).reshape(-1, 1)\n",
    "    X_test = np.array(source_13).reshape(-1, 1)\n",
    "\n",
    "    reg = LinearRegression().fit(X_train, y_train)\n",
    "    score = reg.score(X_train, y_train)\n",
    "    coef = reg.coef_\n",
    "    pred = reg.predict(X_test)\n",
    "\n",
    "    print(f'Score: {round(score, 2)}')\n",
    "    print(f'Coeff: {round(coef[0][0], 2)}')\n",
    "    print(f'Stock price prediction in 13th month: {round(pred[0][0], 2)}')"
   ]
  },
  {
   "cell_type": "code",
   "execution_count": 17,
   "metadata": {},
   "outputs": [
    {
     "name": "stdout",
     "output_type": "stream",
     "text": [
      "Score: 0.87\n",
      "Coeff: 0.03\n",
      "Stock price prediction in 13th month: 16.73\n"
     ]
    }
   ],
   "source": [
    "task05()"
   ]
  }
 ],
 "metadata": {
  "kernelspec": {
   "display_name": "base",
   "language": "python",
   "name": "python3"
  },
  "language_info": {
   "codemirror_mode": {
    "name": "ipython",
    "version": 3
   },
   "file_extension": ".py",
   "mimetype": "text/x-python",
   "name": "python",
   "nbconvert_exporter": "python",
   "pygments_lexer": "ipython3",
   "version": "3.11.3"
  }
 },
 "nbformat": 4,
 "nbformat_minor": 2
}
