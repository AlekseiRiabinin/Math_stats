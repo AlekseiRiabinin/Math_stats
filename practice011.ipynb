{
 "cells": [
  {
   "attachments": {},
   "cell_type": "markdown",
   "metadata": {},
   "source": [
    "#### Task 1:  \n",
    "\n",
    "Вы провели эксперимент c упрощением формы заказа в магазине Утконос и получили результаты по метрике конверсий в покупку. Выберите метод оценки и оцените есть ли стат. значимые различия между конверсиями в двух группах при alpha = 5%. Дайте краткие рекомендации команде.\n",
    "\n",
    "Результаты: \n",
    "- Число юзеров в группах , которые заходили на сайт в период эксперимента: n1 = 15550 и n2 = 15550 \n",
    "- Число юзеров в группах , которые совершили хотя бы одну покупку за период эксперимента: n1 = 164 и n2 = 228 \n",
    "- Конверсии : conv1 = 1.05% conv2 = 1.47%\n",
    "\n",
    "#### Task 2:\n",
    "Сравниваем метрику конверсия в покупку. Размер выборки - 10000 элементов в каждой группе. Какой статистический критерий тут лучше всего подойдёт и почему?"
   ]
  },
  {
   "cell_type": "code",
   "execution_count": 1,
   "metadata": {},
   "outputs": [],
   "source": [
    "# packages imports\n",
    "import numpy as np\n",
    "import pandas as pd\n",
    "import scipy.stats as stats\n",
    "import statsmodels.stats.api as sms\n",
    "import matplotlib as mpl\n",
    "import matplotlib.pyplot as plt\n",
    "import seaborn as sns\n",
    "from math import ceil"
   ]
  },
  {
   "attachments": {},
   "cell_type": "markdown",
   "metadata": {},
   "source": [
    "## Task 1 "
   ]
  },
  {
   "cell_type": "code",
   "execution_count": 3,
   "metadata": {},
   "outputs": [],
   "source": [
    "# conditions of the task\n",
    "alpha = 0.05 # threshold for confidence level\n",
    "n_initial = 15550 # initial number of users\n",
    "n1_final = 164 # number of users with purchase (group 1)\n",
    "n2_final = 228 # number of users with purchase (group 2)\n",
    "conv1 = 0.0105 # conversion rate (group 1)\n",
    "conv2 = 0.0147 # conversion rate (group 2)"
   ]
  },
  {
   "cell_type": "code",
   "execution_count": 4,
   "metadata": {},
   "outputs": [],
   "source": [
    "# calculate effect size based on expected rates\n",
    "effect_size = sms.proportion_effectsize(conv1, conv2)"
   ]
  },
  {
   "cell_type": "code",
   "execution_count": 8,
   "metadata": {},
   "outputs": [],
   "source": [
    "# calculate sample size needed\n",
    "required_n = sms.NormalIndPower().solve_power(\n",
    "    effect_size, \n",
    "    power=0.8, \n",
    "    alpha=alpha, \n",
    "    ratio=1\n",
    ")                                        "
   ]
  },
  {
   "cell_type": "code",
   "execution_count": 9,
   "metadata": {},
   "outputs": [
    {
     "name": "stdout",
     "output_type": "stream",
     "text": [
      "Minimum number of observations for each group: 10995\n"
     ]
    }
   ],
   "source": [
    "# round up to next whole number and print out observations \n",
    "required_n = ceil(required_n)                                               \n",
    "print(f'Minimum number of observations for each group: {required_n}')"
   ]
  },
  {
   "cell_type": "code",
   "execution_count": 14,
   "metadata": {},
   "outputs": [
    {
     "data": {
      "text/html": [
       "<div>\n",
       "<style scoped>\n",
       "    .dataframe tbody tr th:only-of-type {\n",
       "        vertical-align: middle;\n",
       "    }\n",
       "\n",
       "    .dataframe tbody tr th {\n",
       "        vertical-align: top;\n",
       "    }\n",
       "\n",
       "    .dataframe thead th {\n",
       "        text-align: right;\n",
       "    }\n",
       "</style>\n",
       "<table border=\"1\" class=\"dataframe\">\n",
       "  <thead>\n",
       "    <tr style=\"text-align: right;\">\n",
       "      <th></th>\n",
       "      <th>group</th>\n",
       "      <th>conversion</th>\n",
       "    </tr>\n",
       "  </thead>\n",
       "  <tbody>\n",
       "    <tr>\n",
       "      <th>0</th>\n",
       "      <td>group 1</td>\n",
       "      <td>0.0105</td>\n",
       "    </tr>\n",
       "    <tr>\n",
       "      <th>1</th>\n",
       "      <td>group 2</td>\n",
       "      <td>0.0147</td>\n",
       "    </tr>\n",
       "  </tbody>\n",
       "</table>\n",
       "</div>"
      ],
      "text/plain": [
       "     group  conversion\n",
       "0  group 1      0.0105\n",
       "1  group 2      0.0147"
      ]
     },
     "metadata": {},
     "output_type": "display_data"
    }
   ],
   "source": [
    "# create the pandas DataFrame\n",
    "df = pd.DataFrame(\n",
    "    [['group 1', conv1], ['group 2', conv2]], \n",
    "    columns=['group', 'conversion']\n",
    ")\n",
    "display(df)"
   ]
  },
  {
   "cell_type": "code",
   "execution_count": 17,
   "metadata": {},
   "outputs": [
    {
     "data": {
      "image/png": "[encoded data removed]",
      "text/plain": [
       "<Figure size 600x400 with 1 Axes>"
      ]
     },
     "metadata": {},
     "output_type": "display_data"
    }
   ],
   "source": [
    "# print out conversion rates for each group\n",
    "plt.figure(figsize=(6,4))\n",
    "sns.barplot(x=df['group'], y=df['conversion'])\n",
    "\n",
    "plt.title('Conversion rate by group', pad=20)\n",
    "plt.xlabel('Group', labelpad=15)\n",
    "plt.ylabel('Converted (proportion)', labelpad=15);"
   ]
  },
  {
   "attachments": {},
   "cell_type": "markdown",
   "metadata": {},
   "source": [
    "The conversion rates for the groups are indeed very close. Also note that the conversion rate of the control group 1 is lower than tne treatment group 2, so that more users make some purchases after treatment."
   ]
  },
  {
   "attachments": {},
   "cell_type": "markdown",
   "metadata": {},
   "source": [
    "The addition between standard deviations obeys the concept of:\n",
    "\n",
    "Var(X+Y) = Var(X) + Var(Y) if X and Y are independent."
   ]
  },
  {
   "cell_type": "code",
   "execution_count": 23,
   "metadata": {},
   "outputs": [],
   "source": [
    "# find stats params of group 1 and group 2 for A/B test\n",
    "lift = -abs(conv1 - conv2) # difference between the conversion rates\n",
    "scale_one = conv1 * (1 - conv1) * (1 / n_initial) # variance for group 1\n",
    "scale_two = conv2 * (1 - conv2) * (1 / n_initial) # variance for group 2\n",
    "scale_val = (scale_one + scale_two) ** 0.5 # standard deviation"
   ]
  },
  {
   "cell_type": "code",
   "execution_count": 27,
   "metadata": {},
   "outputs": [
    {
     "name": "stdout",
     "output_type": "stream",
     "text": [
      "P-value: 0.0008976\n"
     ]
    }
   ],
   "source": [
    "# calculate p-value\n",
    "p_value = 2 * stats.norm.cdf(lift, loc=0, scale=scale_val)\n",
    "print(f'P-value: {round(p_value, 7)}')"
   ]
  },
  {
   "attachments": {},
   "cell_type": "markdown",
   "metadata": {},
   "source": [
    "The function stats.norm.cdf returns the probability of \"lift being close to zero\" if lift is supposed to be \"normal\". If lift is zero, then there is no difference between groups, so a p-value of <0.05 tell us that the probability that the groups are equal is almost 0, meaning that your groups are different."
   ]
  },
  {
   "cell_type": "code",
   "execution_count": 26,
   "metadata": {},
   "outputs": [
    {
     "name": "stdout",
     "output_type": "stream",
     "text": [
      "Reject Null Hypothesis\n",
      "\n"
     ]
    }
   ],
   "source": [
    "# H0 => µ1 = µ2 (population mean of group 1 is equal to group 2)\n",
    "# HA => µ1 ≠ µ2 (population mean of group 1 is different from group 2)\n",
    "if (p_value < alpha):\n",
    "    print('Reject Null Hypothesis\\n')\n",
    "else:\n",
    "    print('Fail to Reject Null Hypothesis\\n')"
   ]
  },
  {
   "attachments": {},
   "cell_type": "markdown",
   "metadata": {},
   "source": [
    "## Task 2"
   ]
  },
  {
   "attachments": {},
   "cell_type": "markdown",
   "metadata": {},
   "source": [
    "Based on proportion effect size calculated above (with statistical power=0.8), the output is pretty self-explanatory: \n",
    "\n",
    "This is telling us that we need at least 10995 observations in both test and control to be able to detect an increase of at least +0.42% in our metric. 10000 observations are not enough."
   ]
  },
  {
   "attachments": {},
   "cell_type": "markdown",
   "metadata": {},
   "source": [
    "Due to the fact that standard deviation is not known and size of dataset is pretty large, t-test has to be used."
   ]
  }
 ],
 "metadata": {
  "kernelspec": {
   "display_name": "base",
   "language": "python",
   "name": "python3"
  },
  "language_info": {
   "codemirror_mode": {
    "name": "ipython",
    "version": 3
   },
   "file_extension": ".py",
   "mimetype": "text/x-python",
   "name": "python",
   "nbconvert_exporter": "python",
   "pygments_lexer": "ipython3",
   "version": "3.9.7"
  },
  "orig_nbformat": 4
 },
 "nbformat": 4,
 "nbformat_minor": 2
}
