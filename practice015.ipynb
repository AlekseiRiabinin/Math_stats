{
 "cells": [
  {
   "cell_type": "markdown",
   "metadata": {},
   "source": [
    "Задача 1. Инвестор купил акцию 6 лет назад по цене $10. Сейчас он продал ее за $50. Определить, какую доходность принесла ему эта инвестиция в процентах годовых."
   ]
  },
  {
   "cell_type": "code",
   "execution_count": 12,
   "metadata": {},
   "outputs": [],
   "source": [
    "def task1():\n",
    "    PV = 10 # present value\n",
    "    FV = 50 # future value\n",
    "    n = 6 # number of periods\n",
    "\n",
    "    # FV = PV * (1 + i) ^ n\n",
    "    i = round(((FV / PV) ** (1 / n) - 1) * 100, 2)\n",
    "    print(f'Return on investment as a percentage per annum: {i}%')"
   ]
  },
  {
   "cell_type": "code",
   "execution_count": 14,
   "metadata": {},
   "outputs": [
    {
     "name": "stdout",
     "output_type": "stream",
     "text": [
      "Return on investment as a percentage per annum: 30.77%\n"
     ]
    }
   ],
   "source": [
    "task1()"
   ]
  },
  {
   "cell_type": "markdown",
   "metadata": {},
   "source": [
    "Задача 2. Инвестору исполнилось только что 30 лет. Он хочет выйти на пенсию в 60 лет и жить на доход с капитала. Допустим, его целевой уровень капитала к пенсии составляет $350 000. Если он ожидает ставку доходности на рынке порядка 8% годовых, то какую сумму ему надо инвестировать каждый год для достижения цели?"
   ]
  },
  {
   "cell_type": "code",
   "execution_count": 20,
   "metadata": {},
   "outputs": [],
   "source": [
    "def task2():\n",
    "    FV = 350_000 # future value\n",
    "    n = 30 # number of periods\n",
    "    i = 0.08 # return on investment\n",
    "\n",
    "    # FV = PV * (1 + i) ^ n\n",
    "    PV = FV / ((1 + i) ** n)\n",
    "    print(f'Imvestment per annum: {round((PV / n), 2)}')"
   ]
  },
  {
   "cell_type": "code",
   "execution_count": 21,
   "metadata": {},
   "outputs": [
    {
     "name": "stdout",
     "output_type": "stream",
     "text": [
      "Imvestment per annum: 1159.4\n"
     ]
    }
   ],
   "source": [
    "task2()"
   ]
  },
  {
   "cell_type": "markdown",
   "metadata": {},
   "source": [
    "Задача 3. Человек взял ипотечный кредит на сумму 8 млн руб., на 20 лет под 10% годовых. Погашение кредита будет происходить ежемесячными аннуитетными платежами. Определить, сколько составит общая переплата (сумма процентов) по кредиту."
   ]
  },
  {
   "cell_type": "code",
   "execution_count": 25,
   "metadata": {},
   "outputs": [],
   "source": [
    "def task3():\n",
    "    PV = 8_000_000 # present value\n",
    "    n = 20 # number of periods\n",
    "    i = 0.1 # overpayment percentage\n",
    "\n",
    "    # FV = PV * (1 + i) ^ n\n",
    "    FV = PV * (1 + i) ** n\n",
    "    print(f'Total overpayment: {round((FV - PV), 2)}')"
   ]
  },
  {
   "cell_type": "code",
   "execution_count": 26,
   "metadata": {},
   "outputs": [
    {
     "name": "stdout",
     "output_type": "stream",
     "text": [
      "Total overpayment: 45819999.59\n"
     ]
    }
   ],
   "source": [
    "task3()"
   ]
  },
  {
   "cell_type": "markdown",
   "metadata": {},
   "source": [
    "Задача 4. Известно, что безрисковая ставка на рынке составляет 1%, инфляция ожидается 6% годовых и для данного проекта премия за риск равна 4%. Пусть ставка дисконтирования определяется как сумма этих трех составляющих, тогда чему равна приведенная стоимость потоков по проекту, если в первый год ожидается $2000, во второй $5000 и в третьем году проект будет продан за $10000?"
   ]
  },
  {
   "cell_type": "code",
   "execution_count": 27,
   "metadata": {},
   "outputs": [],
   "source": [
    "def task4():\n",
    "    n1, n2, n3 = 1, 2, 3 # number of periods\n",
    "    i1, i2, i3 = 0.01, 0.06, 0.04 # discount rate\n",
    "    FV1, FV2, FV3 = 2000, 5000, 10000 # future value \n",
    "    \n",
    "    i = i1 + i2 + i3 \n",
    "    PV1 = FV1 / ((1 + i) ** n1)\n",
    "    PV2 = FV2 / ((1 + i) ** n2)\n",
    "    PV3 = FV3 / ((1 + i) ** n3)\n",
    "    print(f'Present value of project flows: {round((PV1 + PV2 + PV3), 2)}')"
   ]
  },
  {
   "cell_type": "code",
   "execution_count": 28,
   "metadata": {},
   "outputs": [
    {
     "name": "stdout",
     "output_type": "stream",
     "text": [
      "Present value of project flows: 13171.83\n"
     ]
    }
   ],
   "source": [
    "task4()"
   ]
  },
  {
   "cell_type": "markdown",
   "metadata": {},
   "source": [
    "Задача 5. Что выгодней: положить деньги на депозит под 11% годовых с ежемесячной капитализацией или на депозит под 11,5% с ежегодной капитализацией процентов?"
   ]
  },
  {
   "cell_type": "code",
   "execution_count": 37,
   "metadata": {},
   "outputs": [],
   "source": [
    "def task5():\n",
    "    PV = 1000 # present value\n",
    "    n1 = 12 # number of periods (by month)\n",
    "    i1 = 0.11 # overpayment percentage (by month)\n",
    "    n2 = 1 # number of periods (by year)\n",
    "    i2 = 0.115 # overpayment percentage (by year)\n",
    "\n",
    "    # FV = PV * (1 + i) ^ n\n",
    "    FV1 = PV * (1 + i1) ** n1\n",
    "    FV2 = PV * (1 + i2) ** n2\n",
    "\n",
    "    print(f'Future payment (11.0% by year):  {round(FV1, 2)}\\n'\n",
    "          f'Future payment (11.5% by month): {round(FV2, 2)}')"
   ]
  },
  {
   "cell_type": "code",
   "execution_count": 38,
   "metadata": {},
   "outputs": [
    {
     "name": "stdout",
     "output_type": "stream",
     "text": [
      "Future payment (11.0% by year):  3498.45\n",
      "Future payment (11.5% by month): 1115.0\n"
     ]
    }
   ],
   "source": [
    "task5()"
   ]
  }
 ],
 "metadata": {
  "kernelspec": {
   "display_name": "base",
   "language": "python",
   "name": "python3"
  },
  "language_info": {
   "codemirror_mode": {
    "name": "ipython",
    "version": 3
   },
   "file_extension": ".py",
   "mimetype": "text/x-python",
   "name": "python",
   "nbconvert_exporter": "python",
   "pygments_lexer": "ipython3",
   "version": "3.11.3"
  }
 },
 "nbformat": 4,
 "nbformat_minor": 2
}
