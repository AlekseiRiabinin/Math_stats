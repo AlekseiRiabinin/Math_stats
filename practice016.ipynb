{
 "cells": [
  {
   "cell_type": "code",
   "execution_count": 1,
   "metadata": {},
   "outputs": [],
   "source": [
    "import numpy as np\n",
    "import numpy_financial as npf"
   ]
  },
  {
   "cell_type": "markdown",
   "metadata": {},
   "source": [
    "Задача 1. Есть инвестиционный проект с денежными потоками по кварталам:\n",
    "Квартал 0 1 2 3 4 5\n",
    "денежный поток -1200 100 200 300 400 500\n",
    "Необходимо принять решение, инвестируем в проект или нет, если ставка дисконтирования 15% годовых."
   ]
  },
  {
   "cell_type": "code",
   "execution_count": 13,
   "metadata": {},
   "outputs": [],
   "source": [
    "def task01():\n",
    "    rate, cashflows = 0.15, [-1200, 100, 200, 300, 400, 500]\n",
    "    npv = npf.npv(rate, cashflows).round(2)\n",
    "    print(f'Net Present Value (npv): {npv}')"
   ]
  },
  {
   "cell_type": "code",
   "execution_count": 14,
   "metadata": {},
   "outputs": [
    {
     "name": "stdout",
     "output_type": "stream",
     "text": [
      "Net Present Value (npv): -287.27\n"
     ]
    }
   ],
   "source": [
    "task01() # не инвестируем"
   ]
  },
  {
   "cell_type": "markdown",
   "metadata": {},
   "source": [
    "Задача 2. Для инвестиционного проекта с денежными потоками:\n",
    "Год 0 1 2 3 4 5 6\n",
    "денежный поток -1500 100 200 300 400 500 600\n",
    "найти NPV, если первые два года ставка дисконтирования равна 20%, следующие два года она равна 15%, и затем становится 10%."
   ]
  },
  {
   "cell_type": "code",
   "execution_count": 17,
   "metadata": {},
   "outputs": [],
   "source": [
    "def task02():\n",
    "    cash_flows = [-1500, 100, 200, 300, 400, 500, 600]\n",
    "    rate = [0.2, 0.2, 0.15, 0.15, 0.1, 0.1, 0.1]\n",
    "    npv = 0\n",
    "    \n",
    "    for t, (cf, r) in enumerate(zip(cash_flows, rate), 1):\n",
    "        npv += (cf / (1 + r) ** t)\n",
    "    print(f'Net Present Value (npv): {round(npv, 2)}')"
   ]
  },
  {
   "cell_type": "code",
   "execution_count": 18,
   "metadata": {},
   "outputs": [
    {
     "name": "stdout",
     "output_type": "stream",
     "text": [
      "Net Present Value (npv): -39.03\n"
     ]
    }
   ],
   "source": [
    "task02() # не инвестируем"
   ]
  },
  {
   "cell_type": "markdown",
   "metadata": {},
   "source": [
    "Задача 3. Для проекта из задачи 2 найти внутреннюю норму доходности."
   ]
  },
  {
   "cell_type": "code",
   "execution_count": 23,
   "metadata": {},
   "outputs": [],
   "source": [
    "def task03():\n",
    "    irr = npf.irr([-1500, 100, 200, 300, 400, 500, 600])\n",
    "    print(f'Internal Rate of Return (irr): {round(irr, 2)}')"
   ]
  },
  {
   "cell_type": "code",
   "execution_count": 24,
   "metadata": {},
   "outputs": [
    {
     "name": "stdout",
     "output_type": "stream",
     "text": [
      "Internal Rate of Return (irr): 0.08\n"
     ]
    }
   ],
   "source": [
    "task03()"
   ]
  },
  {
   "cell_type": "markdown",
   "metadata": {},
   "source": [
    "Задача 4. Есть два инвестиционных проекта со следующими денежными потоками:\n",
    "Год 0 1 2 3 4 5\n",
    "Проект А -1000 100 250 450 500 550\n",
    "Проект Б -1000 200 300 400 450 500\n",
    "Если стоимость денег равна 10%, и инвестор хочет получить максимальную доходность на вложенный рубль инвестиций, то какой проект он должен выбрать?"
   ]
  },
  {
   "cell_type": "code",
   "execution_count": 29,
   "metadata": {},
   "outputs": [],
   "source": [
    "def task04():\n",
    "    rate = 0.1\n",
    "    cashflows_a = [-1000, 100, 250, 450, 500, 550]\n",
    "    cashflows_b = [-1000, 200, 300, 400, 450, 500]\n",
    "    \n",
    "    npv_a = npf.npv(rate, cashflows_a)\n",
    "    npv_b = npf.npv(rate, cashflows_b)\n",
    "\n",
    "    irr_a = npf.irr(cashflows_a)\n",
    "    irr_b = npf.irr(cashflows_b)\n",
    "    \n",
    "    print(f'NPV (A): {round(npv_a, 2)}\\n'\n",
    "          f'NPV (B): {round(npv_b, 2)}\\n'\n",
    "          f'IRR (A): {round(irr_a, 2)}\\n'\n",
    "          f'IRR (B): {round(irr_b, 2)}\\n')"
   ]
  },
  {
   "cell_type": "code",
   "execution_count": 30,
   "metadata": {},
   "outputs": [
    {
     "name": "stdout",
     "output_type": "stream",
     "text": [
      "NPV (A): 318.63\n",
      "NPV (B): 348.09\n",
      "IRR (A): 0.19\n",
      "IRR (B): 0.21\n",
      "\n"
     ]
    }
   ],
   "source": [
    "task04() # выбираем проект Б"
   ]
  },
  {
   "cell_type": "markdown",
   "metadata": {},
   "source": [
    "Задача 5. Есть два инвестиционных проекта со следующими денежными потоками:\n",
    "Год 0 1 2 3 4 5\n",
    "Проект А -1000 100 250 450 500 550\n",
    "Проект Б -1000 200 300 400 450 500\n",
    "Инвестор хочет выбрать один из проектов по критерию ликвидности с учетом временной стоимости денег в размере 10% годовых. Какой он должен выбрать?"
   ]
  },
  {
   "cell_type": "code",
   "execution_count": 35,
   "metadata": {},
   "outputs": [],
   "source": [
    "def task05():\n",
    "    rate = 0.1\n",
    "    cashflows_a = [-1000, 100, 250, 450, 500, 550]\n",
    "    cashflows_b = [-1000, 200, 300, 400, 450, 500]\n",
    "\n",
    "    cumulative_sum_a = np.cumsum(cashflows_a)\n",
    "    cumulative_sum_b = np.cumsum(cashflows_b)\n",
    "    \n",
    "    npv_a = npf.npv(rate, cumulative_sum_a)\n",
    "    npv_b = npf.npv(rate, cumulative_sum_b)\n",
    "\n",
    "    irr_a = npf.irr(cumulative_sum_a)\n",
    "    irr_b = npf.irr(cumulative_sum_b)\n",
    "    \n",
    "    print(f'NPV (A): {round(npv_a, 2)}\\n'\n",
    "          f'NPV (B): {round(npv_b, 2)}\\n'\n",
    "          f'IRR (A): {round(irr_a, 2)}\\n'\n",
    "          f'IRR (B): {round(irr_b, 2)}\\n')"
   ]
  },
  {
   "cell_type": "code",
   "execution_count": 36,
   "metadata": {},
   "outputs": [
    {
     "name": "stdout",
     "output_type": "stream",
     "text": [
      "NPV (A): -1772.95\n",
      "NPV (B): -1448.79\n",
      "IRR (A): -0.21\n",
      "IRR (B): -0.17\n",
      "\n"
     ]
    }
   ],
   "source": [
    "task05() # выбираем проект Б"
   ]
  }
 ],
 "metadata": {
  "kernelspec": {
   "display_name": "base",
   "language": "python",
   "name": "python3"
  },
  "language_info": {
   "codemirror_mode": {
    "name": "ipython",
    "version": 3
   },
   "file_extension": ".py",
   "mimetype": "text/x-python",
   "name": "python",
   "nbconvert_exporter": "python",
   "pygments_lexer": "ipython3",
   "version": "3.11.3"
  }
 },
 "nbformat": 4,
 "nbformat_minor": 2
}
